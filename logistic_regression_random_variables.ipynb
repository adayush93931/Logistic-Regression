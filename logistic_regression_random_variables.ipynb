{
 "cells": [
  {
   "cell_type": "code",
   "execution_count": 1,
   "id": "2e1bba70",
   "metadata": {},
   "outputs": [],
   "source": [
    "import numpy as np\n",
    "import matplotlib.pyplot as plt"
   ]
  },
  {
   "cell_type": "code",
   "execution_count": 2,
   "id": "af33286d",
   "metadata": {},
   "outputs": [],
   "source": [
    "mean_1 = np.array([12, 19])\n",
    "mean_2 = np.array([-10, -20])"
   ]
  },
  {
   "cell_type": "code",
   "execution_count": 3,
   "id": "fd2b8ace",
   "metadata": {},
   "outputs": [],
   "source": [
    "cov_1 = np.array([[1,15],[15,1]])\n",
    "cov_2 = np.array([[1,10],[10,1]])"
   ]
  },
  {
   "cell_type": "code",
   "execution_count": 4,
   "id": "f47ad82a",
   "metadata": {},
   "outputs": [
    {
     "name": "stderr",
     "output_type": "stream",
     "text": [
      "C:\\Users\\91882\\AppData\\Local\\Temp\\ipykernel_21304\\1800173775.py:1: RuntimeWarning: covariance is not symmetric positive-semidefinite.\n",
      "  dist_1 = np.random.multivariate_normal(mean_1, cov_1, size = 1000) #Multivariate means distribution with more than 1 dimesnsions\n",
      "C:\\Users\\91882\\AppData\\Local\\Temp\\ipykernel_21304\\1800173775.py:2: RuntimeWarning: covariance is not symmetric positive-semidefinite.\n",
      "  dist_2 = np.random.multivariate_normal(mean_2, cov_2, size = 1000)\n"
     ]
    }
   ],
   "source": [
    "dist_1 = np.random.multivariate_normal(mean_1, cov_1, size = 1000) #Multivariate means distribution with more than 1 dimesnsions\n",
    "dist_2 = np.random.multivariate_normal(mean_2, cov_2, size = 1000) "
   ]
  },
  {
   "cell_type": "code",
   "execution_count": 5,
   "id": "7216272a",
   "metadata": {},
   "outputs": [
    {
     "data": {
      "text/plain": [
       "((1000, 2), (1000, 2))"
      ]
     },
     "execution_count": 5,
     "metadata": {},
     "output_type": "execute_result"
    }
   ],
   "source": [
    "dist_1.shape, dist_2.shape"
   ]
  },
  {
   "cell_type": "code",
   "execution_count": 6,
   "id": "4e84ac79",
   "metadata": {},
   "outputs": [
    {
     "data": {
      "text/plain": [
       "<matplotlib.collections.PathCollection at 0x21bf4781890>"
      ]
     },
     "execution_count": 6,
     "metadata": {},
     "output_type": "execute_result"
    },
    {
     "data": {
      "image/png": "[encoded data removed]",
      "text/plain": [
       "<Figure size 640x480 with 1 Axes>"
      ]
     },
     "metadata": {},
     "output_type": "display_data"
    }
   ],
   "source": [
    "plt.scatter(dist_1[:, 0], dist_1[:, 1], c = 'green')\n",
    "plt.scatter(dist_2[:, 0], dist_2[:, 1], c = 'blue')"
   ]
  },
  {
   "cell_type": "code",
   "execution_count": 7,
   "id": "e78d1834",
   "metadata": {},
   "outputs": [
    {
     "data": {
      "text/plain": [
       "(array([[16.88618469, 21.04013364],\n",
       "        [11.86297193, 23.39944413],\n",
       "        [15.94982213, 22.84668575],\n",
       "        ...,\n",
       "        [16.10446088, 17.2295384 ],\n",
       "        [10.8018409 , 14.12321027],\n",
       "        [ 8.44746513, 20.82715907]]),\n",
       " array([[-12.89279149, -21.12853177],\n",
       "        [-10.00673086, -19.49936443],\n",
       "        [ -7.9990483 , -14.98316041],\n",
       "        ...,\n",
       "        [-13.46178953, -18.83555117],\n",
       "        [-10.21959674, -15.45578684],\n",
       "        [-11.24405179, -20.81001909]]))"
      ]
     },
     "execution_count": 7,
     "metadata": {},
     "output_type": "execute_result"
    }
   ],
   "source": [
    "dist_1, dist_2"
   ]
  },
  {
   "cell_type": "code",
   "execution_count": 8,
   "id": "cb9a1f1e",
   "metadata": {},
   "outputs": [],
   "source": [
    "dataset = np.zeros((2000, 3))\n",
    "\n",
    "#Filling the rows in the data set and filing the first two column and leaving the \n",
    "#last i.e. last column to be fille dby 0 and  1 \n",
    "\n",
    "dataset[:1000, :-1] = dist_1 #[rows, column]\n",
    "dataset[1000: , :-1] = dist_2\n",
    "dataset[1000: , -1] = 1  # 0 - 999 (0) and 1000: (1)"
   ]
  },
  {
   "cell_type": "code",
   "execution_count": 9,
   "id": "d2019084",
   "metadata": {},
   "outputs": [
    {
     "name": "stdout",
     "output_type": "stream",
     "text": [
      "[[16.88618469 21.04013364  0.        ]\n",
      " [11.86297193 23.39944413  0.        ]\n",
      " [15.94982213 22.84668575  0.        ]\n",
      " [ 6.6289246  14.45126851  0.        ]\n",
      " [ 8.45403609 22.04667192  0.        ]\n",
      " [10.77401517 20.79601274  0.        ]\n",
      " [16.42189215 16.70749319  0.        ]\n",
      " [ 7.72092031 20.97487531  0.        ]\n",
      " [19.70989617 21.17710686  0.        ]\n",
      " [ 7.9517102  19.33054981  0.        ]]\n"
     ]
    }
   ],
   "source": [
    "print(dataset[:10])"
   ]
  },
  {
   "cell_type": "code",
   "execution_count": 10,
   "id": "b16b8350",
   "metadata": {},
   "outputs": [],
   "source": [
    "u = np.mean(dataset[:, : -1], axis = 0)\n",
    "std = np.std(dataset[:, : -1], axis = 0)\n",
    "dataset[:, : -1] = (dataset[:, : -1] - u)/std"
   ]
  },
  {
   "cell_type": "code",
   "execution_count": 11,
   "id": "782e0d76",
   "metadata": {},
   "outputs": [
    {
     "name": "stdout",
     "output_type": "stream",
     "text": [
      "[[1.38287266 1.08154621 0.        ]\n",
      " [0.94515088 1.20028005 0.        ]\n",
      " [1.30127821 1.17246213 0.        ]\n",
      " [0.48905701 0.74995727 0.        ]\n",
      " [0.64809687 1.13220091 0.        ]\n",
      " [0.8502594  1.06926067 0.        ]\n",
      " [1.3424143  0.86350325 0.        ]\n",
      " [0.58421331 1.07826205 0.        ]\n",
      " [1.62893033 1.08843948 0.        ]\n",
      " [0.60432429 0.99551029 0.        ]]\n"
     ]
    }
   ],
   "source": [
    "print(dataset[:10])"
   ]
  },
  {
   "cell_type": "code",
   "execution_count": 12,
   "id": "b9efef92",
   "metadata": {},
   "outputs": [],
   "source": [
    "ones = np.ones((dataset.shape[0], 1))      #(row , column)\n",
    "dataset = np.hstack((ones, dataset))"
   ]
  },
  {
   "cell_type": "code",
   "execution_count": 13,
   "id": "2c09a849",
   "metadata": {},
   "outputs": [],
   "source": [
    "np.random.shuffle(dataset)"
   ]
  },
  {
   "cell_type": "code",
   "execution_count": 14,
   "id": "d5c11133",
   "metadata": {},
   "outputs": [
    {
     "name": "stdout",
     "output_type": "stream",
     "text": [
      "[[ 1.         -1.16038169 -0.73004313  1.        ]\n",
      " [ 1.         -0.56105715 -0.66130892  1.        ]\n",
      " [ 1.         -0.71119108 -0.7466523   1.        ]\n",
      " [ 1.         -0.66243246 -0.95280455  1.        ]\n",
      " [ 1.         -0.72364403 -0.99887521  1.        ]\n",
      " [ 1.          1.24568836  1.10682706  0.        ]\n",
      " [ 1.         -0.37355544 -0.86893523  1.        ]\n",
      " [ 1.          1.34407562  1.19517488  0.        ]\n",
      " [ 1.         -1.21123068 -1.06350953  1.        ]\n",
      " [ 1.         -1.19765501 -1.23920148  1.        ]]\n"
     ]
    }
   ],
   "source": [
    "print(dataset[:10])"
   ]
  },
  {
   "cell_type": "code",
   "execution_count": 15,
   "id": "dc80551c",
   "metadata": {},
   "outputs": [],
   "source": [
    "split = 0.8\n",
    "\n",
    "train_X = dataset[:int(split * dataset.shape[0]), :-1]\n",
    "test_X = dataset[int(split * dataset.shape[0]):, :-1]\n",
    "train_Y = dataset[:int(split * dataset.shape[0]), -1]\n",
    "test_Y = dataset[int(split * dataset.shape[0]):, -1]"
   ]
  },
  {
   "cell_type": "code",
   "execution_count": 16,
   "id": "c8790ce4",
   "metadata": {},
   "outputs": [
    {
     "name": "stdout",
     "output_type": "stream",
     "text": [
      "(1600, 3) (400, 3) (1600,) (400,)\n"
     ]
    }
   ],
   "source": [
    "print(train_X.shape, test_X.shape, train_Y.shape, test_Y.shape)"
   ]
  },
  {
   "cell_type": "code",
   "execution_count": 17,
   "id": "456dc94a",
   "metadata": {},
   "outputs": [],
   "source": [
    "#for prediction of value\n",
    "def hypothesis(X, weights):\n",
    "    return 1 / (1 + np.exp(-1 * np.dot(X, weights)))"
   ]
  },
  {
   "cell_type": "code",
   "execution_count": 18,
   "id": "e7aa63c1",
   "metadata": {},
   "outputs": [],
   "source": [
    "def loss_func(X, weights, Y):         \n",
    "    Y_pred = hypothesis(X, weights)\n",
    "    loss = np.mean(Y * np.log(Y_pred) + (1 - Y) * np.log(1 - Y_pred))\n",
    "        \n",
    "    # Here taking mean and dividing by X.shape[0] works as the same\n",
    "    \n",
    "    return -1 * loss"
   ]
  },
  {
   "cell_type": "code",
   "execution_count": 19,
   "id": "e5bbb02c",
   "metadata": {},
   "outputs": [],
   "source": [
    "def gradient(X, Y, weights):    \n",
    "    y_pred = hypothesis(X, weights) \n",
    "    \n",
    "    grad = np.dot(X.T, (Y - y_pred)) \n",
    "        \n",
    "    return grad/X.shape[0]"
   ]
  },
  {
   "cell_type": "code",
   "execution_count": 20,
   "id": "92b4f727",
   "metadata": {},
   "outputs": [],
   "source": [
    "def gradient_descent(X, Y):\n",
    "    weights = np.zeros((X.shape[1], ))\n",
    "    lr_rate = 0.03\n",
    "    loss_epoch = []\n",
    "    \n",
    "    epochs = 10000\n",
    "    \n",
    "    for i in range(epochs):\n",
    "        \n",
    "        grad = gradient(X, Y, weights)\n",
    "        \n",
    "        loss_epoch.append(loss_func(X, weights, Y))\n",
    "        \n",
    "        weights = weights + lr_rate * grad\n",
    "        \n",
    "    return weights, loss_epoch"
   ]
  },
  {
   "cell_type": "code",
   "execution_count": 21,
   "id": "3615653b",
   "metadata": {},
   "outputs": [
    {
     "name": "stdout",
     "output_type": "stream",
     "text": [
      "1.2628350257873535\n"
     ]
    }
   ],
   "source": [
    "import time\n",
    "start = time.time()\n",
    "weights, loss_epoch = gradient_descent(train_X, train_Y)\n",
    "print(time.time() - start)"
   ]
  },
  {
   "cell_type": "code",
   "execution_count": 22,
   "id": "d6eaa638",
   "metadata": {},
   "outputs": [
    {
     "data": {
      "text/plain": [
       "[<matplotlib.lines.Line2D at 0x21bf505ef90>]"
      ]
     },
     "execution_count": 22,
     "metadata": {},
     "output_type": "execute_result"
    },
    {
     "data": {
      "image/png": "[encoded data removed]",
      "text/plain": [
       "<Figure size 640x480 with 1 Axes>"
      ]
     },
     "metadata": {},
     "output_type": "display_data"
    }
   ],
   "source": [
    "plt.plot(loss_epoch)"
   ]
  },
  {
   "cell_type": "code",
   "execution_count": 23,
   "id": "05b3f379",
   "metadata": {},
   "outputs": [
    {
     "data": {
      "text/plain": [
       "[0.6931471805599452,\n",
       " 0.6791743869521492,\n",
       " 0.6656050254248903,\n",
       " 0.6524272256730015,\n",
       " 0.6396293097957233]"
      ]
     },
     "execution_count": 23,
     "metadata": {},
     "output_type": "execute_result"
    }
   ],
   "source": [
    "loss_epoch[:5]"
   ]
  },
  {
   "cell_type": "code",
   "execution_count": 24,
   "id": "29dc56c6",
   "metadata": {},
   "outputs": [
    {
     "data": {
      "text/plain": [
       "array([-0.06284231, -3.20570637, -3.63444691])"
      ]
     },
     "execution_count": 24,
     "metadata": {},
     "output_type": "execute_result"
    }
   ],
   "source": [
    "weights"
   ]
  },
  {
   "cell_type": "code",
   "execution_count": 27,
   "id": "ff5df79c",
   "metadata": {},
   "outputs": [],
   "source": [
    "X = np.arange(-20, 30)\n",
    "Y = -(weights[1] * X + weights[0])/weights[2]"
   ]
  },
  {
   "cell_type": "code",
   "execution_count": 28,
   "id": "4cc394d5",
   "metadata": {},
   "outputs": [
    {
     "data": {
      "text/plain": [
       "[<matplotlib.lines.Line2D at 0x21bf6d0a9d0>]"
      ]
     },
     "execution_count": 28,
     "metadata": {},
     "output_type": "execute_result"
    },
    {
     "data": {
      "image/png": "[encoded data removed]",
      "text/plain": [
       "<Figure size 640x480 with 1 Axes>"
      ]
     },
     "metadata": {},
     "output_type": "display_data"
    }
   ],
   "source": [
    "plt.scatter(dist_1[:, 0], dist_1[:, 1], c = 'green')\n",
    "plt.scatter(dist_2[:, 0], dist_2[:, 1], c = 'blue')\n",
    "plt.plot(X, Y, color = 'pink')"
   ]
  },
  {
   "cell_type": "code",
   "execution_count": 29,
   "id": "7dcc3e9b",
   "metadata": {},
   "outputs": [],
   "source": [
    "def predict(X, weights):\n",
    "    pred = hypothesis(X, weights)\n",
    "    \n",
    "    if pred > 0.5:\n",
    "        return 1\n",
    "    else:\n",
    "        return 0\n",
    "    "
   ]
  },
  {
   "cell_type": "code",
   "execution_count": 30,
   "id": "0e9e2682",
   "metadata": {},
   "outputs": [
    {
     "name": "stdout",
     "output_type": "stream",
     "text": [
      "1 1.0\n"
     ]
    }
   ],
   "source": [
    "print(predict(test_X[0], weights), test_Y[0])"
   ]
  },
  {
   "cell_type": "code",
   "execution_count": 31,
   "id": "57c8d34e",
   "metadata": {},
   "outputs": [
    {
     "name": "stdout",
     "output_type": "stream",
     "text": [
      "1.0\n"
     ]
    }
   ],
   "source": [
    "corr = 0 \n",
    "for i in range (test_X.shape[0]):\n",
    "    pred = predict(test_X[i], weights)\n",
    "    \n",
    "    if pred == test_Y[i]:\n",
    "        corr +=1\n",
    "print(corr/test_X.shape[0])"
   ]
  },
  {
   "cell_type": "code",
   "execution_count": null,
   "id": "da62a805",
   "metadata": {},
   "outputs": [],
   "source": []
  }
 ],
 "metadata": {
  "kernelspec": {
   "display_name": "Python 3 (ipykernel)",
   "language": "python",
   "name": "python3"
  },
  "language_info": {
   "codemirror_mode": {
    "name": "ipython",
    "version": 3
   },
   "file_extension": ".py",
   "mimetype": "text/x-python",
   "name": "python",
   "nbconvert_exporter": "python",
   "pygments_lexer": "ipython3",
   "version": "3.11.5"
  }
 },
 "nbformat": 4,
 "nbformat_minor": 5
}
